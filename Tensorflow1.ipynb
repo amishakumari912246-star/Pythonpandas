{
 "cells": [
  {
   "cell_type": "code",
   "execution_count": null,
   "id": "023a7877-7b42-494a-9eac-902eb8ec6467",
   "metadata": {},
   "outputs": [],
   "source": []
  }
 ],
 "metadata": {
  "kernelspec": {
   "display_name": "",
   "name": ""
  },
  "language_info": {
   "name": ""
  }
 },
 "nbformat": 4,
 "nbformat_minor": 5
}
