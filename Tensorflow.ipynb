{
 "cells": [
  {
   "cell_type": "markdown",
   "id": "88c6b6c5-eb6d-4ca5-ba9f-527e87e32ed2",
   "metadata": {},
   "source": [
    "### Keras:-    \n",
    ">It is a Python Package.   \n",
    ">It sits on a top of tensorflow.    \n",
    ">it is a high-level neural network API.    \n",
    ">It runs on seamlesly on CPU and GPU.\n",
    ">It is a Open Source.\n",
    ">Less coding required to build or Run a Model.    \n",
    ">-----------------------------------------------KERAS     \n",
    ">------------------------------------ TENSORFLOW/THEANO/CNTK     \n",
    ">-------------------------------------CUDA/CUDNN - BLAS/EIGEN     \n",
    ">-------------------------------------GPU       -    CPU\n",
    "\n",
    "### Tensorflow:-    \n",
    "> Inherit From Theano(Data Flow Graph).    \n",
    "> TensorFlow is a python package or c/c++ library.    \n",
    "> Running on CPU or NVIDIA CUDA GPU.    \n",
    "> It is a end-to-end platform for ML/DL.\n",
    "> Desktop,canva,FB,Insta,web/tf.js,mobile/tflite.    \n",
    "> More coding line for to build on running model.    \n",
    "> It is a opensource with a user mannually."
   ]
  },
  {
   "cell_type": "markdown",
   "id": "dda73535-e678-4659-8d5f-144efd3a6b81",
   "metadata": {},
   "source": [
    "### what is Tensorflow?\n",
    "\n",
    "> 1. Tensorflow is a deep Learning Library createed by Google.    \n",
    "> 2. It helps to build and Train machine learning model efficiently.\n",
    "> 3. Think of Tensorflow is an Engine, That does do all mathematical operations in the background.\n",
    "---\n",
    "### What is Keras?\n",
    "> 1. Keras is like a Friendly interface (wrapper) on top of TensorFlow.\n",
    "> 2. Instead of Writing very complex Tensorflow code, You can use Keras to build NeuralNetwork more easily.\n",
    "----"
   ]
  },
  {
   "cell_type": "code",
   "execution_count": 16,
   "id": "5ec146d3-c73f-4ad8-978d-0f863a7c5b1c",
   "metadata": {},
   "outputs": [],
   "source": [
    "### Example Network for odd and even finding.\n",
    "\n",
    "import tensorflow as tf\n",
    "from tensorflow import keras\n",
    "from tensorflow.keras import layers\n",
    "import numpy as np\n",
    "\n",
    "                # 0 = even & 1 = odd\n"
   ]
  },
  {
   "cell_type": "code",
   "execution_count": 17,
   "id": "78693c0b-2050-457d-842c-81fc7ec93e91",
   "metadata": {},
   "outputs": [],
   "source": [
    "x = np.array([[0], [1], [2], [3], [4], [5]], dtype=float)\n",
    "y = np.array([[0], [1], [0], [1], [0], [1]], dtype=float) "
   ]
  },
  {
   "cell_type": "code",
   "execution_count": 18,
   "id": "9c3b9fd5-4300-4717-a225-b76fd9c7d41e",
   "metadata": {},
   "outputs": [],
   "source": [
    "model = keras.Sequential([\n",
    "                           layers.Dense(8,activation = 'relu',input_shape = (1,)),\n",
    "                           layers.Dense(units=1,activation ='sigmoid'),\n",
    "])"
   ]
  },
  {
   "cell_type": "code",
   "execution_count": 25,
   "id": "2b5956e2-54d3-41a9-af39-9b3d2d8cb6bb",
   "metadata": {},
   "outputs": [],
   "source": [
    "# Compile the model\n",
    "model.compile(optimizer='adam', loss='binary_crossentropy', metrics=['accuracy'])\n"
   ]
  },
  {
   "cell_type": "code",
   "execution_count": 28,
   "id": "41c5c919-bff9-4ff2-91bf-b5452a846c2c",
   "metadata": {},
   "outputs": [
    {
     "data": {
      "text/plain": [
       "<keras.src.callbacks.history.History at 0x195096e3c50>"
      ]
     },
     "execution_count": 28,
     "metadata": {},
     "output_type": "execute_result"
    }
   ],
   "source": [
    "\n",
    "# Train the model\n",
    "model.fit(x, y, epochs=50, verbose=0)"
   ]
  },
  {
   "cell_type": "code",
   "execution_count": 29,
   "id": "6196e319-3f58-44b8-b89d-0ebce7fd830d",
   "metadata": {},
   "outputs": [
    {
     "name": "stdout",
     "output_type": "stream",
     "text": [
      "\u001b[1m1/1\u001b[0m \u001b[32m━━━━━━━━━━━━━━━━━━━━\u001b[0m\u001b[37m\u001b[0m \u001b[1m0s\u001b[0m 64ms/step\n",
      "[[0.88113636]\n",
      " [0.9051291 ]\n",
      " [0.9246927 ]]\n"
     ]
    }
   ],
   "source": [
    "# Test the model\n",
    "test_input = np.array([[10], [11], [12]], dtype=float)\n",
    "print(model.predict(test_input))"
   ]
  },
  {
   "cell_type": "markdown",
   "id": "a7ef0906-6b86-41cb-a8c1-089eda784da8",
   "metadata": {},
   "source": [
    "> 1. Data(x,y) --->numbers and labels.\n",
    "> 2. model------>stack of layers(one by one layers)=(1.input,2.hidden,3.output)\n",
    "> 3. compile --->Tell model to learn(optimizer and loss)\n",
    "> 4. Train(fit) --->Adjust the weights to learn patterns\n",
    "> 5. predict --->use the mode for new inputs"
   ]
  },
  {
   "cell_type": "code",
   "execution_count": null,
   "id": "c1b77f27-9deb-4a9c-9bab-91ee15e82cb2",
   "metadata": {},
   "outputs": [],
   "source": []
  }
 ],
 "metadata": {
  "kernelspec": {
   "display_name": "Python 3 (ipykernel)",
   "language": "python",
   "name": "python3"
  },
  "language_info": {
   "codemirror_mode": {
    "name": "ipython",
    "version": 3
   },
   "file_extension": ".py",
   "mimetype": "text/x-python",
   "name": "python",
   "nbconvert_exporter": "python",
   "pygments_lexer": "ipython3",
   "version": "3.13.5"
  }
 },
 "nbformat": 4,
 "nbformat_minor": 5
}
