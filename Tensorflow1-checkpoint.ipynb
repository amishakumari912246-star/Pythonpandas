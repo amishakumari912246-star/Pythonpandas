{
 "cells": [
  {
   "cell_type": "code",
   "execution_count": 41,
   "id": "7df33417-4a90-4908-ba90-c15f0b081df4",
   "metadata": {},
   "outputs": [
    {
     "name": "stdout",
     "output_type": "stream",
     "text": [
      "[[0.8873101 ]\n",
      " [0.90776885]\n",
      " [0.9248279 ]]\n",
      "Predicted classes: [1 1 1]\n"
     ]
    }
   ],
   "source": [
    "import tensorflow as tf\n",
    "from tensorflow import keras\n",
    "from tensorflow.keras import layers\n",
    "import numpy as np\n",
    "\n",
    "# Data\n",
    "X = np.array([[0], [1], [2], [3], [4], [5]])   # input numbers\n",
    "y = np.array([0, 1, 0, 1, 0, 1])               # labels: 0 = even, 1 = odd\n",
    "\n",
    "# Build model\n",
    "model = keras.Sequential([\n",
    "    layers.Dense(8, activation='relu', input_shape=(1,)),   # hidden layer\n",
    "    layers.Dense(1, activation='sigmoid')                   # output layer\n",
    "])\n",
    "\n",
    "# Compile model\n",
    "model.compile(\n",
    "    optimizer='adam',\n",
    "    loss='binary_crossentropy',    # ✅ corrected\n",
    "    metrics=['accuracy']\n",
    ")\n",
    "\n",
    "# Train model\n",
    "model.fit(X, y, epochs=50, verbose=0)\n",
    "\n",
    "# Test model\n",
    "test_data = np.array([[10], [11], [12]])\n",
    "predictions = model.predict(test_data, verbose=0)   # ✅ verbose=0 to suppress extra output\n",
    "print(predictions)\n",
    "\n",
    "# Convert predictions to 0 or 1\n",
    "print(\"Predicted classes:\", (predictions > 0.5).astype(\"int32\").flatten())\n"
   ]
  },
  {
   "cell_type": "code",
   "execution_count": null,
   "id": "a4860107-9431-40f2-b78e-8a279a77fd49",
   "metadata": {},
   "outputs": [],
   "source": []
  }
 ],
 "metadata": {
  "kernelspec": {
   "display_name": "Python 3 (ipykernel)",
   "language": "python",
   "name": "python3"
  },
  "language_info": {
   "codemirror_mode": {
    "name": "ipython",
    "version": 3
   },
   "file_extension": ".py",
   "mimetype": "text/x-python",
   "name": "python",
   "nbconvert_exporter": "python",
   "pygments_lexer": "ipython3",
   "version": "3.13.5"
  }
 },
 "nbformat": 4,
 "nbformat_minor": 5
}
